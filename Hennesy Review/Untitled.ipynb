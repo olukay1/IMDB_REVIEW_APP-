{
 "cells": [
  {
   "cell_type": "code",
   "execution_count": null,
   "id": "5ad259eb",
   "metadata": {},
   "outputs": [],
   "source": [
    "Hennessy_Reviews _Glassdoor\n"
   ]
  },
  {
   "cell_type": "code",
   "execution_count": 1,
   "id": "90d0e50e",
   "metadata": {},
   "outputs": [],
   "source": [
    "import pandas as pd\n",
    "import numpy as np\n",
    "import requests\n",
    "import regex as re"
   ]
  },
  {
   "cell_type": "markdown",
   "id": "109b95b4",
   "metadata": {},
   "source": [
    "**Load data and split table**"
   ]
  },
  {
   "cell_type": "code",
   "execution_count": 5,
   "id": "d49e8da2",
   "metadata": {
    "scrolled": true
   },
   "outputs": [
    {
     "data": {
      "text/html": [
       "<div>\n",
       "<style scoped>\n",
       "    .dataframe tbody tr th:only-of-type {\n",
       "        vertical-align: middle;\n",
       "    }\n",
       "\n",
       "    .dataframe tbody tr th {\n",
       "        vertical-align: top;\n",
       "    }\n",
       "\n",
       "    .dataframe thead th {\n",
       "        text-align: right;\n",
       "    }\n",
       "</style>\n",
       "<table border=\"1\" class=\"dataframe\">\n",
       "  <thead>\n",
       "    <tr style=\"text-align: right;\">\n",
       "      <th></th>\n",
       "      <th>Title</th>\n",
       "      <th>Rating of Company</th>\n",
       "      <th>Current/Former Employee</th>\n",
       "      <th>Review title</th>\n",
       "      <th>Location Worked at</th>\n",
       "      <th>Pros</th>\n",
       "      <th>Cons</th>\n",
       "    </tr>\n",
       "  </thead>\n",
       "  <tbody>\n",
       "    <tr>\n",
       "      <th>0</th>\n",
       "      <td>Oct 7, 2020 - Sales Associate</td>\n",
       "      <td>5.0</td>\n",
       "      <td>Current Employee, less than 1 year</td>\n",
       "      <td>Great</td>\n",
       "      <td>in Tamarac, FL</td>\n",
       "      <td>Great company worked there for 10 years</td>\n",
       "      <td>None great company all around</td>\n",
       "    </tr>\n",
       "    <tr>\n",
       "      <th>1</th>\n",
       "      <td>Nov 10, 2020 - Associate Brand Manager</td>\n",
       "      <td>4.0</td>\n",
       "      <td>Current Employee, more than 5 years</td>\n",
       "      <td>Great experience and opportunity to grow network</td>\n",
       "      <td>in New York, NY</td>\n",
       "      <td>Lots of opportunities to increase your network...</td>\n",
       "      <td>Little to no mobility or career pathing. If yo...</td>\n",
       "    </tr>\n",
       "    <tr>\n",
       "      <th>2</th>\n",
       "      <td>Feb 23, 2021 - Senior Consultant</td>\n",
       "      <td>4.0</td>\n",
       "      <td>Current Employee, more than 5 years</td>\n",
       "      <td>Good brands, bad culture</td>\n",
       "      <td>in New York, NY</td>\n",
       "      <td>good brands with a lot of history</td>\n",
       "      <td>Company Culture is not the best</td>\n",
       "    </tr>\n",
       "    <tr>\n",
       "      <th>3</th>\n",
       "      <td>Feb 11, 2021 - Marketing</td>\n",
       "      <td>2.0</td>\n",
       "      <td>Former Employee, less than 1 year</td>\n",
       "      <td>EH</td>\n",
       "      <td>NaN</td>\n",
       "      <td>Great benefits, a lot of access to great agenc...</td>\n",
       "      <td>lacks diversity in leadership, poor training, ...</td>\n",
       "    </tr>\n",
       "    <tr>\n",
       "      <th>4</th>\n",
       "      <td>Feb 4, 2021 - Finance and Business Analyst</td>\n",
       "      <td>3.0</td>\n",
       "      <td>Current Employee, less than 1 year</td>\n",
       "      <td>Good</td>\n",
       "      <td>in New York, NY</td>\n",
       "      <td>Great perks (allowance for drinks)</td>\n",
       "      <td>Long hours, culture not terrible but an adjust...</td>\n",
       "    </tr>\n",
       "  </tbody>\n",
       "</table>\n",
       "</div>"
      ],
      "text/plain": [
       "                                        Title  Rating of Company  \\\n",
       "0               Oct 7, 2020 - Sales Associate                5.0   \n",
       "1      Nov 10, 2020 - Associate Brand Manager                4.0   \n",
       "2            Feb 23, 2021 - Senior Consultant                4.0   \n",
       "3                    Feb 11, 2021 - Marketing                2.0   \n",
       "4  Feb 4, 2021 - Finance and Business Analyst                3.0   \n",
       "\n",
       "               Current/Former Employee  \\\n",
       "0   Current Employee, less than 1 year   \n",
       "1  Current Employee, more than 5 years   \n",
       "2  Current Employee, more than 5 years   \n",
       "3    Former Employee, less than 1 year   \n",
       "4   Current Employee, less than 1 year   \n",
       "\n",
       "                                       Review title Location Worked at  \\\n",
       "0                                             Great     in Tamarac, FL   \n",
       "1  Great experience and opportunity to grow network    in New York, NY   \n",
       "2                          Good brands, bad culture    in New York, NY   \n",
       "3                                                EH                NaN   \n",
       "4                                              Good    in New York, NY   \n",
       "\n",
       "                                                Pros  \\\n",
       "0            Great company worked there for 10 years   \n",
       "1  Lots of opportunities to increase your network...   \n",
       "2                  good brands with a lot of history   \n",
       "3  Great benefits, a lot of access to great agenc...   \n",
       "4                 Great perks (allowance for drinks)   \n",
       "\n",
       "                                                Cons  \n",
       "0                      None great company all around  \n",
       "1  Little to no mobility or career pathing. If yo...  \n",
       "2                    Company Culture is not the best  \n",
       "3  lacks diversity in leadership, poor training, ...  \n",
       "4  Long hours, culture not terrible but an adjust...  "
      ]
     },
     "execution_count": 5,
     "metadata": {},
     "output_type": "execute_result"
    }
   ],
   "source": [
    "df = pd.read_excel('Hennessy_Reviews_Glassdoor.xlsx')\n",
    "df.head()"
   ]
  },
  {
   "cell_type": "code",
   "execution_count": 13,
   "id": "2331dd33",
   "metadata": {},
   "outputs": [
    {
     "name": "stdout",
     "output_type": "stream",
     "text": [
      "1 year\n"
     ]
    }
   ],
   "source": [
    "text = 'Current Employee, less than 1 year'\n",
    "print (text.split(',')[1][10:].strip())"
   ]
  },
  {
   "cell_type": "code",
   "execution_count": 15,
   "id": "22dea5a9",
   "metadata": {},
   "outputs": [],
   "source": [
    "#The function below separate department from date\n",
    "def split_word (word):\n",
    "    return word.split('-')[1].strip()\n",
    "\n",
    "# Function Split_word applied\n",
    "df['Job_title'] = df['Title'].apply(lambda x: split_word(x))\n",
    "df['Years_of_work_experience'] = df['Current/Former Employee'].apply(lambda x: x.split(',')[1][10:].strip())"
   ]
  },
  {
   "cell_type": "code",
   "execution_count": 18,
   "id": "8ab79f36",
   "metadata": {},
   "outputs": [
    {
     "data": {
      "text/html": [
       "<div>\n",
       "<style scoped>\n",
       "    .dataframe tbody tr th:only-of-type {\n",
       "        vertical-align: middle;\n",
       "    }\n",
       "\n",
       "    .dataframe tbody tr th {\n",
       "        vertical-align: top;\n",
       "    }\n",
       "\n",
       "    .dataframe thead th {\n",
       "        text-align: right;\n",
       "    }\n",
       "</style>\n",
       "<table border=\"1\" class=\"dataframe\">\n",
       "  <thead>\n",
       "    <tr style=\"text-align: right;\">\n",
       "      <th></th>\n",
       "      <th>Rating of Company</th>\n",
       "      <th>Pros</th>\n",
       "      <th>Cons</th>\n",
       "      <th>Job_title</th>\n",
       "      <th>Years_of_work_experience</th>\n",
       "    </tr>\n",
       "  </thead>\n",
       "  <tbody>\n",
       "    <tr>\n",
       "      <th>0</th>\n",
       "      <td>5.0</td>\n",
       "      <td>Great company worked there for 10 years</td>\n",
       "      <td>None great company all around</td>\n",
       "      <td>Sales Associate</td>\n",
       "      <td>1 year</td>\n",
       "    </tr>\n",
       "    <tr>\n",
       "      <th>1</th>\n",
       "      <td>4.0</td>\n",
       "      <td>Lots of opportunities to increase your network...</td>\n",
       "      <td>Little to no mobility or career pathing. If yo...</td>\n",
       "      <td>Associate Brand Manager</td>\n",
       "      <td>5 years</td>\n",
       "    </tr>\n",
       "    <tr>\n",
       "      <th>2</th>\n",
       "      <td>4.0</td>\n",
       "      <td>good brands with a lot of history</td>\n",
       "      <td>Company Culture is not the best</td>\n",
       "      <td>Senior Consultant</td>\n",
       "      <td>5 years</td>\n",
       "    </tr>\n",
       "    <tr>\n",
       "      <th>3</th>\n",
       "      <td>2.0</td>\n",
       "      <td>Great benefits, a lot of access to great agenc...</td>\n",
       "      <td>lacks diversity in leadership, poor training, ...</td>\n",
       "      <td>Marketing</td>\n",
       "      <td>1 year</td>\n",
       "    </tr>\n",
       "    <tr>\n",
       "      <th>4</th>\n",
       "      <td>3.0</td>\n",
       "      <td>Great perks (allowance for drinks)</td>\n",
       "      <td>Long hours, culture not terrible but an adjust...</td>\n",
       "      <td>Finance and Business Analyst</td>\n",
       "      <td>1 year</td>\n",
       "    </tr>\n",
       "  </tbody>\n",
       "</table>\n",
       "</div>"
      ],
      "text/plain": [
       "   Rating of Company                                               Pros  \\\n",
       "0                5.0            Great company worked there for 10 years   \n",
       "1                4.0  Lots of opportunities to increase your network...   \n",
       "2                4.0                  good brands with a lot of history   \n",
       "3                2.0  Great benefits, a lot of access to great agenc...   \n",
       "4                3.0                 Great perks (allowance for drinks)   \n",
       "\n",
       "                                                Cons  \\\n",
       "0                      None great company all around   \n",
       "1  Little to no mobility or career pathing. If yo...   \n",
       "2                    Company Culture is not the best   \n",
       "3  lacks diversity in leadership, poor training, ...   \n",
       "4  Long hours, culture not terrible but an adjust...   \n",
       "\n",
       "                      Job_title Years_of_work_experience  \n",
       "0               Sales Associate                   1 year  \n",
       "1       Associate Brand Manager                  5 years  \n",
       "2             Senior Consultant                  5 years  \n",
       "3                     Marketing                   1 year  \n",
       "4  Finance and Business Analyst                   1 year  "
      ]
     },
     "execution_count": 18,
     "metadata": {},
     "output_type": "execute_result"
    }
   ],
   "source": [
    "data = df[['Rating of Company', 'Pros', 'Cons', 'Job_title', 'Years_of_work_experience']]\n",
    "data.head()"
   ]
  },
  {
   "cell_type": "code",
   "execution_count": 25,
   "id": "92809e1b",
   "metadata": {},
   "outputs": [
    {
     "data": {
      "text/plain": [
       "'- Prestige of company name\\r\\n- HQ in NY\\r\\n- Results-oriented'"
      ]
     },
     "execution_count": 25,
     "metadata": {},
     "output_type": "execute_result"
    }
   ],
   "source": [
    "data['Pros'][10]"
   ]
  },
  {
   "cell_type": "code",
   "execution_count": 45,
   "id": "84d01a80",
   "metadata": {},
   "outputs": [
    {
     "name": "stdout",
     "output_type": "stream",
     "text": [
      "Prestige of company name HQ in NY Results oriented allowance\n"
     ]
    }
   ],
   "source": [
    "text = '- Prestige of company name\\r\\n- HQ in NY\\r\\n- Results-oriented (allowance)'\n",
    "\n",
    "print(''.join(re.sub('\\r\\n|-',' ',text).replace('  ', '').replace('(', '').replace(')', '')))"
   ]
  },
  {
   "cell_type": "markdown",
   "id": "d90c60c7",
   "metadata": {},
   "source": [
    "**Clean Text**"
   ]
  },
  {
   "cell_type": "code",
   "execution_count": 46,
   "id": "736bfa12",
   "metadata": {},
   "outputs": [],
   "source": [
    "#Create a function to clean text\n",
    "\n",
    "def clean_text(word):\n",
    "    return ''.join(re.sub('\\r\\n|-',' ',word).replace('  ', '').replace('(', '').replace(')', ''))"
   ]
  },
  {
   "cell_type": "code",
   "execution_count": 48,
   "id": "29511c12",
   "metadata": {
    "scrolled": true
   },
   "outputs": [
    {
     "name": "stderr",
     "output_type": "stream",
     "text": [
      "C:\\ProgramData\\Anaconda3\\lib\\site-packages\\ipykernel_launcher.py:1: SettingWithCopyWarning: \n",
      "A value is trying to be set on a copy of a slice from a DataFrame.\n",
      "Try using .loc[row_indexer,col_indexer] = value instead\n",
      "\n",
      "See the caveats in the documentation: https://pandas.pydata.org/pandas-docs/stable/user_guide/indexing.html#returning-a-view-versus-a-copy\n",
      "  \"\"\"Entry point for launching an IPython kernel.\n",
      "C:\\ProgramData\\Anaconda3\\lib\\site-packages\\ipykernel_launcher.py:2: SettingWithCopyWarning: \n",
      "A value is trying to be set on a copy of a slice from a DataFrame.\n",
      "Try using .loc[row_indexer,col_indexer] = value instead\n",
      "\n",
      "See the caveats in the documentation: https://pandas.pydata.org/pandas-docs/stable/user_guide/indexing.html#returning-a-view-versus-a-copy\n",
      "  \n"
     ]
    },
    {
     "data": {
      "text/html": [
       "<div>\n",
       "<style scoped>\n",
       "    .dataframe tbody tr th:only-of-type {\n",
       "        vertical-align: middle;\n",
       "    }\n",
       "\n",
       "    .dataframe tbody tr th {\n",
       "        vertical-align: top;\n",
       "    }\n",
       "\n",
       "    .dataframe thead th {\n",
       "        text-align: right;\n",
       "    }\n",
       "</style>\n",
       "<table border=\"1\" class=\"dataframe\">\n",
       "  <thead>\n",
       "    <tr style=\"text-align: right;\">\n",
       "      <th></th>\n",
       "      <th>Rating of Company</th>\n",
       "      <th>Pros</th>\n",
       "      <th>Cons</th>\n",
       "      <th>Job_title</th>\n",
       "      <th>Years_of_work_experience</th>\n",
       "      <th>Pros_clean</th>\n",
       "      <th>Cons_clean</th>\n",
       "    </tr>\n",
       "  </thead>\n",
       "  <tbody>\n",
       "    <tr>\n",
       "      <th>0</th>\n",
       "      <td>5.0</td>\n",
       "      <td>Great company worked there for 10 years</td>\n",
       "      <td>None great company all around</td>\n",
       "      <td>Sales Associate</td>\n",
       "      <td>1 year</td>\n",
       "      <td>Great company worked there for 10 years</td>\n",
       "      <td>None great company all around</td>\n",
       "    </tr>\n",
       "    <tr>\n",
       "      <th>1</th>\n",
       "      <td>4.0</td>\n",
       "      <td>Lots of opportunities to increase your network...</td>\n",
       "      <td>Little to no mobility or career pathing. If yo...</td>\n",
       "      <td>Associate Brand Manager</td>\n",
       "      <td>5 years</td>\n",
       "      <td>Lots of opportunities to increase your network...</td>\n",
       "      <td>Little to no mobility or career pathing. If yo...</td>\n",
       "    </tr>\n",
       "    <tr>\n",
       "      <th>2</th>\n",
       "      <td>4.0</td>\n",
       "      <td>good brands with a lot of history</td>\n",
       "      <td>Company Culture is not the best</td>\n",
       "      <td>Senior Consultant</td>\n",
       "      <td>5 years</td>\n",
       "      <td>good brands with a lot of history</td>\n",
       "      <td>Company Culture is not the best</td>\n",
       "    </tr>\n",
       "    <tr>\n",
       "      <th>3</th>\n",
       "      <td>2.0</td>\n",
       "      <td>Great benefits, a lot of access to great agenc...</td>\n",
       "      <td>lacks diversity in leadership, poor training, ...</td>\n",
       "      <td>Marketing</td>\n",
       "      <td>1 year</td>\n",
       "      <td>Great benefits, a lot of access to great agenc...</td>\n",
       "      <td>lacks diversity in leadership, poor training, ...</td>\n",
       "    </tr>\n",
       "    <tr>\n",
       "      <th>4</th>\n",
       "      <td>3.0</td>\n",
       "      <td>Great perks (allowance for drinks)</td>\n",
       "      <td>Long hours, culture not terrible but an adjust...</td>\n",
       "      <td>Finance and Business Analyst</td>\n",
       "      <td>1 year</td>\n",
       "      <td>Great perks allowance for drinks</td>\n",
       "      <td>Long hours, culture not terrible but an adjust...</td>\n",
       "    </tr>\n",
       "  </tbody>\n",
       "</table>\n",
       "</div>"
      ],
      "text/plain": [
       "   Rating of Company                                               Pros  \\\n",
       "0                5.0            Great company worked there for 10 years   \n",
       "1                4.0  Lots of opportunities to increase your network...   \n",
       "2                4.0                  good brands with a lot of history   \n",
       "3                2.0  Great benefits, a lot of access to great agenc...   \n",
       "4                3.0                 Great perks (allowance for drinks)   \n",
       "\n",
       "                                                Cons  \\\n",
       "0                      None great company all around   \n",
       "1  Little to no mobility or career pathing. If yo...   \n",
       "2                    Company Culture is not the best   \n",
       "3  lacks diversity in leadership, poor training, ...   \n",
       "4  Long hours, culture not terrible but an adjust...   \n",
       "\n",
       "                      Job_title Years_of_work_experience  \\\n",
       "0               Sales Associate                   1 year   \n",
       "1       Associate Brand Manager                  5 years   \n",
       "2             Senior Consultant                  5 years   \n",
       "3                     Marketing                   1 year   \n",
       "4  Finance and Business Analyst                   1 year   \n",
       "\n",
       "                                          Pros_clean  \\\n",
       "0            Great company worked there for 10 years   \n",
       "1  Lots of opportunities to increase your network...   \n",
       "2                  good brands with a lot of history   \n",
       "3  Great benefits, a lot of access to great agenc...   \n",
       "4                   Great perks allowance for drinks   \n",
       "\n",
       "                                          Cons_clean  \n",
       "0                      None great company all around  \n",
       "1  Little to no mobility or career pathing. If yo...  \n",
       "2                    Company Culture is not the best  \n",
       "3  lacks diversity in leadership, poor training, ...  \n",
       "4  Long hours, culture not terrible but an adjust...  "
      ]
     },
     "execution_count": 48,
     "metadata": {},
     "output_type": "execute_result"
    }
   ],
   "source": [
    "data['Pros_clean'] = data['Pros'].apply(lambda x: clean_text(x))\n",
    "data['Cons_clean'] = data['Cons'].apply(lambda x: clean_text(x))\n",
    "data.head()"
   ]
  },
  {
   "cell_type": "code",
   "execution_count": 72,
   "id": "8f815694",
   "metadata": {},
   "outputs": [],
   "source": [
    "#Import NLTK to remove stopwords\n",
    "#import spacy\n",
    "import spacy\n",
    "\n",
    "nlp = spacy.load('en_core_web_sm')"
   ]
  },
  {
   "cell_type": "code",
   "execution_count": 73,
   "id": "039359c4",
   "metadata": {},
   "outputs": [],
   "source": [
    "#Remove stopwords\n",
    "def rem_stop(text):#\n",
    "    doc = nlp(text)            \n",
    "    return [token for token in doc if not token.is_stop and not token.is_punct]\n",
    " \n",
    "#filtered_sentences = [w for w in word_tokens if not token.is_stop]\n",
    "#print (filtered_sentences)\n",
    "#filtered_sentence = []\n",
    " \n",
    "\n",
    "        \n",
    " \n",
    "#print(word_tokens)\n",
    "#print(filtered_sentence)"
   ]
  },
  {
   "cell_type": "code",
   "execution_count": 74,
   "id": "ee71ef48",
   "metadata": {},
   "outputs": [
    {
     "data": {
      "text/plain": [
       "[sample, sentence, showing, stop, words, filtration]"
      ]
     },
     "execution_count": 74,
     "metadata": {},
     "output_type": "execute_result"
    }
   ],
   "source": [
    "ex = 'This is a sample sentence, showing off the stop words filtration.'\n",
    "rem_stop(ex)"
   ]
  },
  {
   "cell_type": "code",
   "execution_count": null,
   "id": "72eca2da",
   "metadata": {},
   "outputs": [],
   "source": []
  }
 ],
 "metadata": {
  "kernelspec": {
   "display_name": "Python 3",
   "language": "python",
   "name": "python3"
  },
  "language_info": {
   "codemirror_mode": {
    "name": "ipython",
    "version": 3
   },
   "file_extension": ".py",
   "mimetype": "text/x-python",
   "name": "python",
   "nbconvert_exporter": "python",
   "pygments_lexer": "ipython3",
   "version": "3.7.4"
  }
 },
 "nbformat": 4,
 "nbformat_minor": 5
}
